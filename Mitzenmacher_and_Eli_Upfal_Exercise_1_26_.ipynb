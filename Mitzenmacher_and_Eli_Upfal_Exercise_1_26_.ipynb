{
  "cells": [
    {
      "cell_type": "markdown",
      "metadata": {
        "id": "view-in-github",
        "colab_type": "text"
      },
      "source": [
        "<a href=\"https://colab.research.google.com/github/mahhammad/randomized_algorithms/blob/main/Mitzenmacher_and_Eli_Upfal_Exercise_1_26_.ipynb\" target=\"_parent\"><img src=\"https://colab.research.google.com/assets/colab-badge.svg\" alt=\"Open In Colab\"/></a>"
      ]
    },
    {
      "cell_type": "markdown",
      "source": [
        "**Exercise 1.26:** Tic-tac-toe always ends up in a tie if players play optimally. Instead,we may consider random variations of tic-tac-toe.\n",
        "* (a) First variation: Each of the nine squares is labeled either X or O according to an independent and uniform coin flip. If only one of the players has one (or more) winning tic-tac-toe combinations, that player wins. Otherwise, the game is a tie. Determine the probability that X wins. (You may want to use a computer program to help run through the configurations.)\n",
        "*(b) Second variation: X and O take turns, with the X player going first. On the X player’s turn, an X is placed on a square chosen independently and uniformly at random from the squares that are still vacant; O plays similarly. The first player to have a winning tic-tac-toe combination wins the game, and a tie occurs if neither player achieves a winning combination. Find the probability that each player wins.(Again, you may want to write a program to help you.)"
      ],
      "metadata": {
        "id": "f9nHyxpH-fbz"
      },
      "id": "f9nHyxpH-fbz"
    },
    {
      "cell_type": "code",
      "execution_count": null,
      "id": "a863f34d",
      "metadata": {
        "id": "a863f34d"
      },
      "outputs": [],
      "source": [
        "import numpy as np\n",
        "import random\n",
        "import matplotlib.pyplot as plt\n",
        "import itertools"
      ]
    },
    {
      "cell_type": "markdown",
      "source": [
        "## **part A:**"
      ],
      "metadata": {
        "id": "eJGkgJHUPlh_"
      },
      "id": "eJGkgJHUPlh_"
    },
    {
      "cell_type": "markdown",
      "source": [
        "در این برنامه با انتساب یک شماره به هر خانه ماتریس به ترتیب ۰ تا ۸ و ذخیره این اعداد به صورت آرایه ساختار بازی را بازنویسی می کنیم در تابع $play$ در آرایه$p_board$  که با کمک $ittertools$ به طور رندوم یکی از مقادیر $X$ و $O$ را به هر خانه انتصاب می دهد و همه لیست های مرتب نه تایی با اعضای $X$ و $O$ را میسازد.سپس بررسی می کند در هر کدام ازین حالت های ممکن چه کسی برنده بازی است. برای تشخیص برنده از تابع $winner$استفاده می کنیم. در اینجا $winnerlist$ تمام حالت هایی که ممکن است بازیکنی برنده باشد در آرایه ذخیره می شود. هر خانه از ساختار داده شده با خانه های موجود در لیست حالت های برنده مقایسه می شود در صورتی که حالتی از برنده در آن ساختار بندی پیدا شود به تعداد برد های آن بازی کن اضافه می شود. "
      ],
      "metadata": {
        "id": "BUr6Bto-VZlH"
      },
      "id": "BUr6Bto-VZlH"
    },
    {
      "cell_type": "code",
      "source": [
        "class random_tic_tac_a:\n",
        "  def play(self):\n",
        "    players=['X','O']\n",
        "    result=[0,0,0]\n",
        "    ind={'X':0,'O':1,'T':2}\n",
        "    for p_board in itertools.product(players, repeat=9):\n",
        "      winner=self.winner(p_board)\n",
        "      result[ind[winner]]+=1\n",
        "    return np.array(result)\n",
        "\n",
        "  def winner(self,board_list):\n",
        "    winner_list=[[0,1,2],[0,3,6],[0,4,8],[3,4,5],[1,4,7],[2,5,8],[6,7,8]]\n",
        "    player={'X':0,'O':0}\n",
        "    for win in winner_list:\n",
        "      if board_list[win[0]]==board_list[win[1]] and board_list[win[0]]==board_list[win[2]]:\n",
        "        player[board_list[win[0]]]+=1\n",
        "    if player['X']==0 and player['O']>0:\n",
        "      return 'O'\n",
        "    elif player['X']>0 and player['O']==0:\n",
        "      return 'X'\n",
        "    else :\n",
        "      return 'T'"
      ],
      "metadata": {
        "id": "WvQRIl-iP9ba"
      },
      "id": "WvQRIl-iP9ba",
      "execution_count": null,
      "outputs": []
    },
    {
      "cell_type": "code",
      "source": [
        "game=random_tic_tac_a()\n",
        "res=game.play()\n",
        "objects = ('X', 'O', 'Tie')\n",
        "print(*zip(objects,res,res/res.sum()))\n",
        "plt.bar(objects, res)\n",
        "plt.title('Number of wins in all passible games');\n",
        "plt.ylabel(\"frequency\")\n",
        "plt.show()"
      ],
      "metadata": {
        "colab": {
          "base_uri": "https://localhost:8080/",
          "height": 470
        },
        "id": "XbXgs_edTPfM",
        "outputId": "20313fc0-5092-4e5c-b02b-897eefe73269"
      },
      "id": "XbXgs_edTPfM",
      "execution_count": null,
      "outputs": [
        {
          "output_type": "stream",
          "name": "stdout",
          "text": [
            "('X', 181, 0.353515625) ('O', 181, 0.353515625) ('Tie', 150, 0.29296875)\n"
          ]
        },
        {
          "output_type": "display_data",
          "data": {
            "text/plain": [
              "<Figure size 640x480 with 1 Axes>"
            ],
            "image/png": "[encoded data removed]"
          },
          "metadata": {}
        }
      ]
    },
    {
      "cell_type": "markdown",
      "source": [
        "از بین $2^9$ حالت ممکن برای بازی $181$ بار آغاز کننده بازی برنده شده است و $181$ بار نیز شرکت کننده دوم بازی را برده است. در این بین $150$ بار نیز تساوی رخ میدهد.که احتمالات آن به صورت زیر بیان میشود:\n",
        "\n",
        "$P(X wins)=\\frac{181}{181}= 0.353515625$\n",
        "\n",
        "$P(O wins)=\\frac{181}{2^9}= 0.353515625$\n",
        "\n",
        "$P(Tie)=\\frac{150}{2^9}=0.29296875$\n",
        "\n",
        "------------------------------------------------------------------------------\n"
      ],
      "metadata": {
        "id": "AoEqLF9fWTMI"
      },
      "id": "AoEqLF9fWTMI"
    },
    {
      "cell_type": "markdown",
      "source": [
        "## **part B:**"
      ],
      "metadata": {
        "id": "CBOQs9hlN0w-"
      },
      "id": "CBOQs9hlN0w-"
    },
    {
      "cell_type": "markdown",
      "source": [
        "\n",
        "در این قسمت مشابه قسمت قبلی ماتریس بازی به صورت آرایه باز نویسی شده است. با این تفاوت که در تابع $play$ لیست اولیه را درهم سازی می کند. در این صورت طی پیمایش این لیست و به روز رسانی شدن هر خانه با توجه به این که نوبت کدام بازیکن است شرایط خواسته شده در مسئله این که خانه ها به صورت رندوم انتخاب شوند حفظ شود. سپس با استفاده از تابع $winner$ برنده این لیست درهم شده را پیدا می کنیم. نخست به صورت رندوم یکی از بازیکنان به عنوان شروع کننده انتخاب می شود و نوبت به اون داده می شود. بعد از طی هر مرحله نوبت تغییر خواهد کرد. در طول پیمایش لیست هر گاه به برنده شدن یکی از بازیکنان برسیم بازی متوقف می شود. برای بدست آوردن احتمال دقیق باید همه جایگشت های ممکن $boardList$ را بدست آورد تا تکرار بازی با این لیست ها که با ابزار $ittertools$ انجام گرفته است درنهایت تعداد برد ها و تساوی ها بدست آید. \n"
      ],
      "metadata": {
        "id": "wV_V_zPzPXzQ"
      },
      "id": "wV_V_zPzPXzQ"
    },
    {
      "cell_type": "code",
      "source": [
        "class random_tic_tac_b:\n",
        "  def play(self,first_player='X'):\n",
        "    board_list=[0,1,2,3,4,5,6,7,8]\n",
        "    result=[0,0,0]\n",
        "    ind={'X':0,'O':1,'T':2}\n",
        "    for p_board in itertools.permutations(board_list):\n",
        "      winner=self.winner(p_board,first_player)\n",
        "      result[ind[winner]]+=1\n",
        "    return np.array(result)\n",
        "\n",
        "  def winner(self,board_list,first_player):\n",
        "    winner_list=[{0,1,2},{0,3,6},{0,4,8},{3,4,5},{1,4,7},{2,5,8},{6,7,8}]\n",
        "    player={'X':set(),'O':set()}\n",
        "    turn= first_player if first_player in {'X','O'} else self.random_player()\n",
        "    for x in board_list:\n",
        "      player[turn].update({x})\n",
        "      for win in winner_list:\n",
        "        if win.issubset(player[turn]):\n",
        "          return turn\n",
        "      turn='X' if turn=='O' else 'O'\n",
        "    return 'T'\n",
        "  def random_player(self):\n",
        "    if np.random.rand() > 0.5: \n",
        "      return \"X\"\n",
        "    else: \n",
        "      return \"O\""
      ],
      "metadata": {
        "id": "GkKFB7HGybsd"
      },
      "id": "GkKFB7HGybsd",
      "execution_count": null,
      "outputs": []
    },
    {
      "cell_type": "code",
      "source": [
        "game=random_tic_tac_b()\n",
        "res=game.play('X')\n",
        "objects = ('X', 'O', 'Tie')\n",
        "print(*zip(objects,res,res/res.sum()))\n",
        "plt.bar(objects, res)\n",
        "plt.title('Number of wins in all passible games');\n",
        "plt.ylabel(\"frequency\")\n",
        "plt.show()"
      ],
      "metadata": {
        "colab": {
          "base_uri": "https://localhost:8080/",
          "height": 470
        },
        "id": "mdEnkjoUJ_Yp",
        "outputId": "a75deccb-7eaa-4bf4-cda6-e2970fb58246"
      },
      "id": "mdEnkjoUJ_Yp",
      "execution_count": null,
      "outputs": [
        {
          "output_type": "stream",
          "name": "stdout",
          "text": [
            "('X', 189216, 0.5214285714285715) ('O', 87264, 0.24047619047619048) ('Tie', 86400, 0.23809523809523808)\n"
          ]
        },
        {
          "output_type": "display_data",
          "data": {
            "text/plain": [
              "<Figure size 640x480 with 1 Axes>"
            ],
            "image/png": "[encoded data removed]"
          },
          "metadata": {}
        }
      ]
    },
    {
      "cell_type": "markdown",
      "source": [
        "از بین $9!$ حالت ممکن برای بازی $189216$ بار آغاز کننده بازی برنده شده است و $87264$ بار نیز شرکت کننده دوم بازی را برده است. در این بین $86400$ بار نیز تساوی رخ میدهد.که احتمالات آن به صورت زیر بیان میشود:\n",
        "\n",
        "$P(X wins |X starts)=\\frac{189216}{9!}=0.521428$\n",
        "\n",
        "$P(O wins |X starts)=\\frac{87264}{9!}=0.240476$\n",
        "\n",
        "$P(Tie |X starts)=\\frac{86400}{9!}=0.238095$"
      ],
      "metadata": {
        "id": "e0ZSmL73PwHM"
      },
      "id": "e0ZSmL73PwHM"
    }
  ],
  "metadata": {
    "kernelspec": {
      "display_name": "Python 3 (ipykernel)",
      "language": "python",
      "name": "python3"
    },
    "language_info": {
      "codemirror_mode": {
        "name": "ipython",
        "version": 3
      },
      "file_extension": ".py",
      "mimetype": "text/x-python",
      "name": "python",
      "nbconvert_exporter": "python",
      "pygments_lexer": "ipython3",
      "version": "3.9.12"
    },
    "colab": {
      "provenance": [],
      "include_colab_link": true
    }
  },
  "nbformat": 4,
  "nbformat_minor": 5
}