{
  "cells": [
    {
      "cell_type": "markdown",
      "metadata": {
        "id": "view-in-github",
        "colab_type": "text"
      },
      "source": [
        "<a href=\"https://colab.research.google.com/github/mahhammad/randomized_algorithms/blob/main/Randomized_Algorithm_to_find_Median.ipynb\" target=\"_parent\"><img src=\"https://colab.research.google.com/assets/colab-badge.svg\" alt=\"Open In Colab\"/></a>"
      ]
    },
    {
      "cell_type": "markdown",
      "metadata": {
        "id": "B32o4nGWv-6W"
      },
      "source": [
        "# Randomized Algorithm (Median)\n",
        "### Authors: Fatemeh Lajevardi, Dorsa Dadashi, Mohammad Hatami\n",
        "**A randomized algorithm for finding the median of an array.**"
      ]
    },
    {
      "cell_type": "markdown",
      "metadata": {
        "id": "3IgmEOftxv0x"
      },
      "source": [
        "___________\n",
        "*Algorithm 1: Randomized Find Median with high probability*\n",
        "_________\n",
        "    input : List S of n integers, n odd\n",
        "    output: The median of S, or FAIL\n",
        "1: R ← choose $n^\\frac{3}{4}$ elements from S (u.a.r. and with replacement);\n",
        "  \n",
        "2: sort R;\n",
        "  \n",
        "3: $d$ ←$(\\frac{1}{2}n^\\frac{3}{4}-\\sqrt{n})^{th}$ smallest element of R;\n",
        "\n",
        "4: $u$ ←$(\\frac{1}{2}n^\\frac{3}{4}-\\sqrt{n})^{th}$ smallest element of R;\n",
        "\n",
        "5: $C$ ← $\\{x ∈ S | d≤ x ≤ u\\}, S_d ← \\{x ∈ S | x < d\\},  S_u ← \\{x ∈ S | x > u\\}$;\n",
        " \n",
        "6:  if $|S_d| ≥ n/2$  or  $|S_u| ≥ n/2$  or  $|C| > O(n^\\frac{3}{4})$:\n",
        "  - 6.1 output FAIL\n",
        "\n",
        "7: else:\n",
        "  - 7.1: sort C;\n",
        "  - 7.2: output $(\\frac{n+1}{2}-|S_l|)^{th}$ smallest element of R; \n",
        "  _______________\n"
      ]
    },
    {
      "cell_type": "code",
      "execution_count": null,
      "metadata": {
        "id": "4z1Wfxhev6z1"
      },
      "outputs": [],
      "source": [
        "import math\n",
        "import random\n",
        "\n",
        "def find_median_randomized(S):\n",
        "    \"\"\"\n",
        "    ------------------------------------------------------------------\n",
        "    Input:       1) A set S of n elements over an ordered domain .\n",
        "    Output:      1) The median element of S or Fail\n",
        "    ------------------------------------------------------------------\n",
        "    \"\"\"\n",
        "    # Set n to length of set S\n",
        "    n = len(S)\n",
        "\n",
        "    # Sample n^(3/4) elements\n",
        "    number_of_samples = int(math.ceil(n ** (3.0 / 4.0)))\n",
        "    R = random.choices(S, k=number_of_samples) #with replacement\n",
        "    #R = random.sample(S, k=number_of_samples) #without replacement\n",
        "\n",
        "    # Sort R\n",
        "    R.sort()\n",
        "\n",
        "    # Compute d as int(math.floor(((n^(3/4))/2) - math.sqrt(n)))\n",
        "    d_index = int(math.floor( (n ** (3.0 / 4.0))/ 2.0 - math.sqrt(n) ))\n",
        "    d = R[d_index-1]\n",
        "\n",
        "    # Compute u as int(math.ceil(((n^(3/4))/2) + math.sqrt(n)))\n",
        "    u_index = int(math.ceil(((n ** (3.0 / 4.0)) / 2.0) + math.sqrt(n)))\n",
        "    u = R[u_index-1]\n",
        "\n",
        "    # Computer C, ld, and lu according to algorithm\n",
        "    C = [x for x in S if d <= x and x <= u]\n",
        "    ld = len([x for x in S if x < d])\n",
        "    lu = len([x for x in S if x > u])\n",
        "\n",
        "    # FAIL if ld > (n/2) or lu > (n/2)\n",
        "    M=math.floor(n/2)\n",
        "    if (ld >= M or lu >= M):\n",
        "        return 'FAIL1'\n",
        "\n",
        "    # FAIL if |C| > 4*n^(3/4)\n",
        "    if  len(C) > 4.0 * (n ** (3.0 / 4.0)):\n",
        "         return 'FAIL2'\n",
        "    # Sort C\n",
        "    C.sort()\n",
        "\n",
        "    # Return ((n+1)/2- ld )-th element in C\n",
        "    median_index = M+1 - ld \n",
        "    return C[median_index-1]\n"
      ]
    },
    {
      "cell_type": "code",
      "execution_count": null,
      "metadata": {
        "colab": {
          "base_uri": "https://localhost:8080/"
        },
        "id": "4H9CB0G7wqhT",
        "outputId": "acef9e64-3390-48b2-e670-e08a593e6e20"
      },
      "outputs": [
        {
          "output_type": "stream",
          "name": "stdout",
          "text": [
            "[4086979, 9970054, 19209853, 22313540, 38802638, 43052228, 55775107, 63572627, 63911872, 67429523, 73723847, 77042823, 95018666, 102987869, 103573096, 106374904, 106598034, 107041629, 114140635, 129269591, 140192096, 172559400, 182303665, 185882876, 194748415, 203636505, 209030470, 212152988, 212434197, 242105586, 264052862, 267527290, 283114849, 286102534, 288523812, 300717986, 309941194, 311188243, 343279129, 355418258, 358842343, 399369769, 419686706, 442521562, 461963511, 465080619, 480754027, 498083772, 510774680, 530511435, 531542076, 536229023, 540564679, 553765186, 553944553, 586608339, 600278427, 619877034, 636734519, 638352519, 656229819, 676861353, 682221899, 683712661, 686978857, 704884906, 711220580, 714636779, 721451447, 732965083, 741076059, 753602204, 757782140, 792583719, 795535962, 795948255, 799299006, 825139467, 825509246, 830740799, 847758795, 848773277, 859788094, 860268018, 867950856, 868577012, 875542708, 880811885, 890812093, 896727259, 901481136, 901684050, 909682896, 913937204, 933126064, 940244437, 949090674, 949785555, 950191666, 974492535, 981070544]\n"
          ]
        }
      ],
      "source": [
        "n=101\n",
        "#Generate n random numbers between 0 and 1000000000\n",
        "randomlist = random.choices(range(0, 1000000000),k=n)\n",
        "#randomlist = random.sample(range(0, 1000000000),k=n)\n",
        "print(sorted(randomlist))\n",
        "# Randomize input\n",
        "random.shuffle(randomlist)"
      ]
    },
    {
      "cell_type": "code",
      "execution_count": null,
      "metadata": {
        "colab": {
          "base_uri": "https://localhost:8080/"
        },
        "id": "OueS-emFik5F",
        "outputId": "0b7112d2-70e4-43ff-ef24-a19e79eac24f"
      },
      "outputs": [
        {
          "output_type": "stream",
          "name": "stdout",
          "text": [
            "CPU times: user 4 µs, sys: 0 ns, total: 4 µs\n",
            "Wall time: 7.39 µs\n",
            "exact Median: 531542076 \n"
          ]
        }
      ],
      "source": [
        "%time\n",
        "# Calculate middle values\n",
        "print('exact Median: %s ' % statistics.median(randomlist))\n",
        "#print('Median: %s ' % find_median_randomized(randomlist))"
      ]
    },
    {
      "cell_type": "code",
      "execution_count": null,
      "metadata": {
        "colab": {
          "base_uri": "https://localhost:8080/"
        },
        "id": "GK4ObnuQiSTG",
        "outputId": "823148fa-8e95-41f2-bc92-8df5b253997a"
      },
      "outputs": [
        {
          "output_type": "stream",
          "name": "stdout",
          "text": [
            "CPU times: user 5 µs, sys: 0 ns, total: 5 µs\n",
            "Wall time: 8.34 µs\n",
            "Median: 531542076 \n"
          ]
        }
      ],
      "source": [
        "%time\n",
        "# Calculate middle values\n",
        "#print('exact Median: %s ' % statistics.median(randomlist))\n",
        "print('Median: %s ' % find_median_randomized(randomlist))"
      ]
    },
    {
      "cell_type": "code",
      "execution_count": null,
      "metadata": {
        "colab": {
          "base_uri": "https://localhost:8080/"
        },
        "id": "z-pJ5mIBI5-K",
        "outputId": "2dd8ed15-6b78-4e7b-dd94-82272bf33be9"
      },
      "outputs": [
        {
          "output_type": "stream",
          "name": "stdout",
          "text": [
            "n=30->#tests=90000\n",
            "#Fail=90000:(#OutBundsFail=90000 and #BigCFail=0)\n",
            "n=50->#tests=90000\n",
            "#Fail=24:(#OutBundsFail=24 and #BigCFail=0)\n",
            "n=100->#tests=90000\n",
            "#Fail=19:(#OutBundsFail=19 and #BigCFail=0)\n",
            "n=200->#tests=90000\n",
            "#Fail=13:(#OutBundsFail=13 and #BigCFail=0)\n",
            "n=500->#tests=90000\n",
            "#Fail=1:(#OutBundsFail=1 and #BigCFail=0)\n",
            "n=1000->#tests=90000\n",
            "#Fail=0:(#OutBundsFail=0 and #BigCFail=0)\n",
            "n=5000->#tests=90000\n",
            "#Fail=0:(#OutBundsFail=0 and #BigCFail=0)\n",
            "n=10000->#tests=90000\n",
            "#Fail=0:(#OutBundsFail=0 and #BigCFail=0)\n"
          ]
        }
      ],
      "source": [
        "N=[30,50,100,200,500,1000,5000,10000]\n",
        "repeat=300\n",
        "num_test=300\n",
        "BigC=[0,0,0,0,0,0,0,0]\n",
        "OutBunds=[0,0,0,0,0,0,0,0]\n",
        "OK=[0,0,0,0,0,0,0,0]\n",
        "for j,n in enumerate(N):\n",
        "  for r in range(repeat):\n",
        "    randomlist = random.choices(range(0, int(1e9)),k=n)\n",
        "    #print(sorted(randomlist))\n",
        "    random.shuffle(randomlist)\n",
        "    for i in range(num_test):\n",
        "      res=find_median_randomized(randomlist)\n",
        "      if res=='FAIL1':\n",
        "          OutBunds[j]+=1\n",
        "      elif res=='FAIL2':\n",
        "          BigC[j]+=1\n",
        "      else:\n",
        "          OK[j]+=1\n",
        "  print(f\"n={n}->#tests={repeat*num_test}\\n#Fail={BigC[j]+OutBunds[j]}:(#OutBundsFail={OutBunds[j]} and #BigCFail={BigC[j]})\")\n"
      ]
    },
    {
      "cell_type": "code",
      "execution_count": null,
      "metadata": {
        "colab": {
          "base_uri": "https://localhost:8080/"
        },
        "id": "HTUA_fzc-k6D",
        "outputId": "a42c7c10-5182-4063-9d3f-520ff06554a6"
      },
      "outputs": [
        {
          "output_type": "stream",
          "name": "stdout",
          "text": [
            "(30, 0, 90000, 0) (50, 0, 24, 89976) (100, 0, 19, 89981) (200, 0, 13, 89987) (500, 0, 1, 89999) (1000, 0, 0, 90000) (5000, 0, 0, 90000) (10000, 0, 0, 90000)\n"
          ]
        }
      ],
      "source": [
        "print(*list(zip(N,BigC,OutBunds,OK)))"
      ]
    }
  ],
  "metadata": {
    "colab": {
      "provenance": [],
      "authorship_tag": "ABX9TyM1ZcWiKkDe8u1p7UbOrofZ",
      "include_colab_link": true
    },
    "gpuClass": "standard",
    "kernelspec": {
      "display_name": "Python 3",
      "name": "python3"
    },
    "language_info": {
      "name": "python"
    }
  },
  "nbformat": 4,
  "nbformat_minor": 0
}